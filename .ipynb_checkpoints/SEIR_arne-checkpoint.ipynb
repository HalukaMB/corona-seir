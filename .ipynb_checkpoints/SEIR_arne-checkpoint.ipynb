{
 "cells": [
  {
   "cell_type": "markdown",
   "metadata": {},
   "source": [
    "# SEIR-Modell der Humboldt-Universität"
   ]
  },
  {
   "cell_type": "code",
   "execution_count": 8,
   "metadata": {},
   "outputs": [],
   "source": [
    "import numpy as np\n",
    "from scipy.integrate import ode\n",
    "import pandas as pd\n",
    "import matplotlib.pyplot as pl\n",
    "import matplotlib.patches as patches\n",
    "pd.set_option('display.max_rows', None)\n"
   ]
  },
  {
   "cell_type": "markdown",
   "metadata": {},
   "source": [
    "Folgende Parameter können angepasst werden, um zu beeinflussen, wie sich die Maßnahme auf den Gesamtverlauf der Infektion auswirkt:"
   ]
  },
  {
   "cell_type": "code",
   "execution_count": 9,
   "metadata": {},
   "outputs": [],
   "source": [
    "# days after start after which action is effective\n",
    "action_taken_at_day = 30\n",
    "\n",
    "# how many days does the action last?\n",
    "action_duration = 100\n",
    "\n",
    "# number of people seen normally divided by number of people seen during action \n",
    "action_effectiveness = 100 / 75"
   ]
  },
  {
   "cell_type": "markdown",
   "metadata": {},
   "source": [
    "Untenstehend die Schrittfunktion, die über den Zeitraum integriert wird:"
   ]
  },
  {
   "cell_type": "code",
   "execution_count": 10,
   "metadata": {},
   "outputs": [],
   "source": [
    "# set equation of motion for SIR dynamics\n",
    "def dxdt(t,y,eta,rho,epsilon):\n",
    "\n",
    "    S = y[0]\n",
    "    I = y[1]\n",
    "    R = y[2]\n",
    "    E = y[3]\n",
    "\n",
    "    #_eta = eta*(1.03+0.5*np.sin(np.pi*2*t/28))\n",
    "    _eta = eta\n",
    "\n",
    "    dy = np.zeros(4)\n",
    "    dy[0] = -_eta*S*I\n",
    "    dy[1] = +epsilon*E - rho*I\n",
    "    dy[2] = +rho*I\n",
    "    dy[3] = +_eta*S*I - epsilon*E\n",
    "\n",
    "    return dy"
   ]
  },
  {
   "cell_type": "markdown",
   "metadata": {},
   "source": [
    "Diese Parameter werden genutzt, um das SEIR-Modell auf die Corona-Infektion in Deutschland anzupassen:"
   ]
  },
  {
   "cell_type": "code",
   "execution_count": 11,
   "metadata": {},
   "outputs": [],
   "source": [
    "# recovery rate\n",
    "infectious_duration = 7 #days\n",
    "rho = 1/infectious_duration\n",
    "\n",
    "# infection rate\n",
    "R0 = 2.5 # basic reproduction number\n",
    "eta = R0*rho # mean-field \n",
    "\n",
    "# asymptomatic period\n",
    "asymptomatic_duration = 4 #days\n",
    "epsilon = 1/asymptomatic_duration\n",
    "\n",
    "# number of people in Germany\n",
    "N = 8.2e7\n",
    "\n",
    "# initially infected (think, people who came from italy infected)\n",
    "initial = 1000"
   ]
  },
  {
   "cell_type": "code",
   "execution_count": 5,
   "metadata": {},
   "outputs": [],
   "source": [
    "# max value of time and points in time to integrate to\n",
    "t_max = 365 #days\n",
    "N_spacing_in_t = t_max * 10\n",
    "\n",
    "t_0 = 0 # intitial time\n",
    "\n",
    "# create vector of time points you want to evaluate\n",
    "t = np.linspace(t_0,t_max,N_spacing_in_t)\n",
    "\n",
    "# reproject parameters to t\n",
    "action_taken_in_t = int(N_spacing_in_t / t_max * action_taken_at_day)\n",
    "action_duration_in_t = int(N_spacing_in_t / t_max * action_duration)\n",
    "\n",
    "# create vector of positions for those times\n",
    "result = np.zeros((4,len(t)))"
   ]
  },
  {
   "cell_type": "code",
   "execution_count": 6,
   "metadata": {},
   "outputs": [
    {
     "name": "stderr",
     "output_type": "stream",
     "text": [
      "/Library/Frameworks/Python.framework/Versions/3.6/lib/python3.6/site-packages/scipy/integrate/_ode.py:1177: UserWarning: dopri5: step size becomes too small\n",
      "  self.messages.get(istate, unexpected_istate_msg)))\n"
     ]
    }
   ],
   "source": [
    "# initial values, before action\n",
    "I_0 = initial / N\n",
    "E_0 = 0 \n",
    "S_0 = 1 - I_0 # initially susceptible\n",
    "R_0 = 0\n",
    "\n",
    "# initial y-vector\n",
    "y0 = np.array([S_0,I_0,R_0,E_0])\n",
    "\n",
    "# initialize integrator\n",
    "r = ode(dxdt)\n",
    "\n",
    "# Runge-Kutta with step size control\n",
    "r.set_integrator('dopri5')\n",
    "\n",
    "# set initial values\n",
    "r.set_initial_value(y0,t_0)\n",
    "\n",
    "# set transmission rate and recovery rate\n",
    "r.set_f_params(eta,rho,epsilon)\n",
    "\n",
    "# loop through all demanded time points until action is taken\n",
    "for it, t_ in enumerate(t[:action_taken_in_t]):\n",
    "\n",
    "    # get result of ODE integration\n",
    "    y = r.integrate(t_)\n",
    "\n",
    "    # write result to result vector\n",
    "    result[:,it] = y"
   ]
  },
  {
   "cell_type": "code",
   "execution_count": 7,
   "metadata": {},
   "outputs": [],
   "source": [
    "# setup second model with adjusted parameters (start of action)\n",
    "S_1, I_1, R_1, E_1 = result[:,action_taken_in_t - 1]\n",
    "\n",
    "# initial y-vector when action is taken\n",
    "y1 = np.array([S_1,I_1,R_1,E_1])\n",
    "\n",
    "# initialize integrator\n",
    "r = ode(dxdt)\n",
    "\n",
    "# Runge-Kutta with step size control\n",
    "r.set_integrator('dopri5')\n",
    "\n",
    "# set initial values\n",
    "r.set_initial_value(y1,t[action_taken_in_t])\n",
    "\n",
    "# set transmission rate and recovery rate, adjust R_0 according to our effectiveness\n",
    "r.set_f_params(eta / action_effectiveness,rho,epsilon)\n",
    "\n",
    "# loop through all demanded time points until action is taken\n",
    "for it, t_ in enumerate(t[action_taken_in_t:action_taken_in_t+action_duration_in_t], start=action_taken_in_t):\n",
    "\n",
    "    # get result of ODE integration\n",
    "    y = r.integrate(t_)\n",
    "\n",
    "    # write result to result vector\n",
    "    result[:,it] = y"
   ]
  },
  {
   "cell_type": "code",
   "execution_count": 8,
   "metadata": {},
   "outputs": [],
   "source": [
    "# setup third model and run it until t_max\n",
    "S_2, I_2, R_2, E_2 = result[:,action_taken_in_t + action_duration_in_t - 1]\n",
    "\n",
    "# initial y-vector\n",
    "y1 = np.array([S_2,I_2,R_2,E_2])\n",
    "\n",
    "# initialize integrator\n",
    "r = ode(dxdt)\n",
    "\n",
    "# Runge-Kutta with step size control\n",
    "r.set_integrator('dopri5')\n",
    "\n",
    "# set initial values\n",
    "r.set_initial_value(y1,t[action_taken_in_t + action_duration_in_t])\n",
    "\n",
    "# set transmission rate and recovery rate, adjust R_0 according to our effectiveness\n",
    "r.set_f_params(eta,rho,epsilon)\n",
    "\n",
    "# loop through all demanded time points until action is taken\n",
    "for it, t_ in enumerate(t[action_taken_in_t + action_duration_in_t:], start=action_taken_in_t + action_duration_in_t):\n",
    "\n",
    "    # get result of ODE integration\n",
    "    y = r.integrate(t_)\n",
    "\n",
    "    # write result to result vector\n",
    "    result[:,it] = y"
   ]
  },
  {
   "cell_type": "markdown",
   "metadata": {},
   "source": [
    "The code below is used for plotting:"
   ]
  },
  {
   "cell_type": "code",
   "execution_count": 9,
   "metadata": {},
   "outputs": [],
   "source": [
    "?patches.Rectangle"
   ]
  },
  {
   "cell_type": "code",
   "execution_count": 10,
   "metadata": {},
   "outputs": [
    {
     "data": {
      "image/png": "[encoded data removed]",
      "text/plain": [
       "<Figure size 576x216 with 2 Axes>"
      ]
     },
     "metadata": {
      "needs_background": "light"
     },
     "output_type": "display_data"
    }
   ],
   "source": [
    "# plot result\n",
    "color = ['#444489','#A95648','#88885A', '#777777']\n",
    "\n",
    "fig, ax = pl.subplots(1,2,figsize= (8,3))\n",
    "\n",
    "pl.sca(ax[0])\n",
    "pl.xlabel('time $t$ [days]')\n",
    "pl.ylabel('number of individuals')\n",
    "\n",
    "# save first to make mpl adjust the figure, then save again\n",
    "#fig.tight_layout()\n",
    "#fig.savefig('boarding_school_{0}.pdf'.format(0))\n",
    "\n",
    "labels = ['S','I','R','E']\n",
    "\n",
    "\n",
    "#pl.ylim([-10,N+10])\n",
    "pl.xlim([-0.5,t_max+0.5])\n",
    "\n",
    "for iplot, EPI in enumerate([1,3]):\n",
    "    pl.plot(t,result[EPI,:]*N,'-',lw=3,c=color[EPI],label=labels[EPI])\n",
    "    #pl.ylim([-10,N+10])\n",
    "    pl.xlim([-0.5,t_max+0.5])\n",
    "\n",
    "#pl.yscale('log')\n",
    "pl.legend()\n",
    "\n",
    "# highlight area with effective measures\n",
    "pl.axvspan(action_taken_at_day, action_taken_at_day + action_duration, color='grey', alpha=0.2)\n",
    "\n",
    "pl.sca(ax[1])\n",
    "pl.xlim([-0.5,t_max+0.5])\n",
    "#fig.tight_layout()\n",
    "#fig.savefig('boarding_school_{0}.pdf'.format(0))\n",
    "\n",
    "for iplot, EPI in enumerate([0,2]):\n",
    "    pl.plot(t,result[EPI,:]*N,'-',lw=3,c=color[EPI],label=labels[EPI])\n",
    "    #pl.ylim([-10,N+10])\n",
    "    pl.xlim([-0.5,t_max+0.5])\n",
    "    \n",
    "pl.legend()\n",
    "\n",
    "# highlight area with effective measures\n",
    "pl.axvspan(action_taken_at_day, action_taken_at_day + action_duration, color='grey', alpha=0.2)\n",
    "\n",
    "fig.tight_layout()\n",
    "#fig.savefig('boarding_school_{0}.pdf'.format(0))\n",
    "\n",
    "pl.show()"
   ]
  },
  {
   "cell_type": "code",
   "execution_count": 11,
   "metadata": {
    "scrolled": true
   },
   "outputs": [
    {
     "data": {
      "text/plain": [
       "9085734"
      ]
     },
     "execution_count": 11,
     "metadata": {},
     "output_type": "execute_result"
    }
   ],
   "source": [
    "# maximum number of infected people at the same time\n",
    "int(result[1].max() * N)"
   ]
  },
  {
   "cell_type": "code",
   "execution_count": 12,
   "metadata": {},
   "outputs": [
    {
     "data": {
      "text/plain": [
       "147"
      ]
     },
     "execution_count": 12,
     "metadata": {},
     "output_type": "execute_result"
    }
   ],
   "source": [
    "# maximum number of infected people after x days\n",
    "int((result[1].argmax() / N_spacing_in_t) * t_max)"
   ]
  },
  {
   "cell_type": "code",
   "execution_count": null,
   "metadata": {},
   "outputs": [],
   "source": []
  }
 ],
 "metadata": {
  "kernelspec": {
   "display_name": "Python 3",
   "language": "python",
   "name": "python3"
  },
  "language_info": {
   "codemirror_mode": {
    "name": "ipython",
    "version": 3
   },
   "file_extension": ".py",
   "mimetype": "text/x-python",
   "name": "python",
   "nbconvert_exporter": "python",
   "pygments_lexer": "ipython3",
   "version": "3.6.4"
  }
 },
 "nbformat": 4,
 "nbformat_minor": 4
}
